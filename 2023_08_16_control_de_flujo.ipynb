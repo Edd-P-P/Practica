{
  "cells": [
    {
      "cell_type": "markdown",
      "metadata": {
        "id": "view-in-github",
        "colab_type": "text"
      },
      "source": [
        "<a href=\"https://colab.research.google.com/github/Edd-P-P/Python/blob/main/2023_08_16_control_de_flujo.ipynb\" target=\"_parent\"><img src=\"https://colab.research.google.com/assets/colab-badge.svg\" alt=\"Open In Colab\"/></a>"
      ]
    },
    {
      "cell_type": "markdown",
      "metadata": {
        "id": "CrQYZAWfCBBJ"
      },
      "source": [
        "Control de flujo\n",
        "================\n",
        "\n",
        "**Date:** 2022-02-03\n",
        "\n"
      ]
    },
    {
      "cell_type": "markdown",
      "metadata": {
        "id": "euf6eCCtCBBM"
      },
      "source": [
        "## Control de flujo\n",
        "\n"
      ]
    },
    {
      "cell_type": "markdown",
      "metadata": {
        "id": "Tyy7Afc-CBBN"
      },
      "source": [
        "### `if`\n",
        "\n"
      ]
    },
    {
      "cell_type": "code",
      "execution_count": 1,
      "metadata": {
        "colab": {
          "base_uri": "https://localhost:8080/"
        },
        "id": "Gg29Vg-nCBBN",
        "outputId": "4d1b2679-cf29-4c60-f71d-416efed3b2bd"
      },
      "outputs": [
        {
          "output_type": "execute_result",
          "data": {
            "text/plain": [
              "['Eduardo', 'Alejandro', 'Maria', 'Brenda', 'Clavel', 'Tamara', 'Claudia']"
            ]
          },
          "metadata": {},
          "execution_count": 1
        }
      ],
      "source": [
        "inscritos = [\"Eduardo\", \"Alejandro\", \"Maria\", \"Brenda\", \"Clavel\"]\n",
        "oyentes = [\"Tamara\", \"Claudia\"]\n",
        "estudiantes = inscritos + oyentes\n",
        "estudiantes"
      ]
    },
    {
      "cell_type": "code",
      "execution_count": 2,
      "metadata": {
        "colab": {
          "base_uri": "https://localhost:8080/"
        },
        "id": "YyKlAYnFCBBO",
        "outputId": "86dbab37-a174-4781-99f2-951e36ce63b7"
      },
      "outputs": [
        {
          "output_type": "stream",
          "name": "stdout",
          "text": [
            "Son muchos estudiantes\n"
          ]
        }
      ],
      "source": [
        "if len(estudiantes) > 5:\n",
        "    print(\"Son muchos estudiantes\")"
      ]
    },
    {
      "cell_type": "code",
      "execution_count": 3,
      "metadata": {
        "colab": {
          "base_uri": "https://localhost:8080/"
        },
        "id": "yd03cIOwCBBO",
        "outputId": "60f09afe-669d-4048-db42-3d3a3f710100"
      },
      "outputs": [
        {
          "output_type": "stream",
          "name": "stdout",
          "text": [
            "Son pocos estudiantes. Ojalá entren oyentes\n"
          ]
        }
      ],
      "source": [
        "if len(estudiantes) > 10:\n",
        "    print(\"Son muchos estudiantes\")\n",
        "else:https://github.com/Edd-P-P\n",
        "    print(\"Son pocos estudiantes\", end=\". \")\n",
        "    print(\"Ojalá entren oyentes\")"
      ]
    },
    {
      "cell_type": "code",
      "execution_count": 11,
      "metadata": {
        "colab": {
          "base_uri": "https://localhost:8080/"
        },
        "id": "WoRoMHCWCBBP",
        "outputId": "500df3bf-94ad-40d8-b6eb-2c49dec3428e"
      },
      "outputs": [
        {
          "output_type": "stream",
          "name": "stdout",
          "text": [
            "Son cuando mucho cinco estudiantes\n"
          ]
        }
      ],
      "source": [
        "if len(inscritos) <= 5:\n",
        "    print(\"Son cuando mucho cinco estudiantes\")\n",
        "elif len(inscritos) == 6:\n",
        "    print(\"Son seis estudiantes\")\n",
        "else:\n",
        "    print(\"Son muchos estudiantes\", end=\". \")\n",
        "    print(\"Ojalá no entren oyentes\")"
      ]
    },
    {
      "cell_type": "markdown",
      "metadata": {
        "id": "QLXj9Z-uCBBQ"
      },
      "source": [
        "### `for`\n",
        "\n"
      ]
    },
    {
      "cell_type": "code",
      "execution_count": 15,
      "metadata": {
        "colab": {
          "base_uri": "https://localhost:8080/"
        },
        "id": "dL6TjAoICBBQ",
        "outputId": "43ef02e1-3779-479b-b619-6dc954e31066"
      },
      "outputs": [
        {
          "output_type": "stream",
          "name": "stdout",
          "text": [
            "Hola Eduardo ¿Cómo estás?\n",
            "Hola Alejandro ¿Cómo estás?\n",
            "Hola Maria ¿Cómo estás?\n",
            "Hola Brenda ¿Cómo estás?\n",
            "Hola Clavel ¿Cómo estás?\n",
            "Hola Tamara ¿Cómo estás?\n",
            "Hola Claudia ¿Cómo estás?\n"
          ]
        }
      ],
      "source": [
        "for estudiante in estudiantes:\n",
        "    print(\"Hola\", estudiante, \"¿Cómo estás?\")"
      ]
    },
    {
      "cell_type": "code",
      "execution_count": 6,
      "metadata": {
        "colab": {
          "base_uri": "https://localhost:8080/"
        },
        "id": "0LplM5_ECBBR",
        "outputId": "17565b75-cf0d-41cf-ba6c-b0afe5b29045"
      },
      "outputs": [
        {
          "output_type": "stream",
          "name": "stdout",
          "text": [
            "Hola Eduardo\n",
            "Hola Alejandro\n",
            "Hola Maria\n",
            "Hola Brenda\n",
            "Hola Clavel\n",
            "Hola Tamara\n",
            "Hola Claudia\n"
          ]
        }
      ],
      "source": [
        "for i in range(len(estudiantes)):\n",
        "    print(\"Hola\", estudiantes[i])"
      ]
    },
    {
      "cell_type": "code",
      "execution_count": 21,
      "metadata": {
        "colab": {
          "base_uri": "https://localhost:8080/"
        },
        "id": "sHF-3Bl8CBBR",
        "outputId": "f10322bc-482f-4100-a3ff-44c26ce71c52"
      },
      "outputs": [
        {
          "output_type": "stream",
          "name": "stdout",
          "text": [
            "11\n",
            "10\n",
            "9\n",
            "8\n",
            "7\n",
            "6\n",
            "5\n",
            "4\n",
            "3\n",
            "2\n",
            "Eso tilin\n",
            "1\n",
            "Dale tilin\n",
            "0\n",
            "A la mierda tilin\n"
          ]
        }
      ],
      "source": [
        "for j in range(11, -1, -1):\n",
        "    print(j)\n",
        "    if j == 0:\n",
        "        print(\"Boom\")"
      ]
    },
    {
      "cell_type": "code",
      "source": [
        "list(range(5,-3,-2))"
      ],
      "metadata": {
        "colab": {
          "base_uri": "https://localhost:8080/"
        },
        "id": "nLTWBzuqHJP1",
        "outputId": "c04f214e-11d7-4fb0-b511-3cffc44b7d30"
      },
      "execution_count": 27,
      "outputs": [
        {
          "output_type": "execute_result",
          "data": {
            "text/plain": [
              "[5, 3, 1, -1]"
            ]
          },
          "metadata": {},
          "execution_count": 27
        }
      ]
    },
    {
      "cell_type": "markdown",
      "source": [
        "**Range puede tener 3 valores el primero indica donde inicia la serie, el segundo donde termina y el ultimo de cuanto en cuanto va avanzando**:"
      ],
      "metadata": {
        "id": "RNhfWtYNHrG_"
      }
    },
    {
      "cell_type": "code",
      "execution_count": 29,
      "metadata": {
        "colab": {
          "base_uri": "https://localhost:8080/"
        },
        "id": "0g9liDuRCBBS",
        "outputId": "f1c95d43-2591-4930-efc8-e800a801599f"
      },
      "outputs": [
        {
          "output_type": "execute_result",
          "data": {
            "text/plain": [
              "range(0, 7897987978979779878979797987987979779797979)"
            ]
          },
          "metadata": {},
          "execution_count": 29
        }
      ],
      "source": [
        "range(7897987978979779878979797987987979779797979)"
      ]
    },
    {
      "cell_type": "markdown",
      "metadata": {
        "id": "76gd7vpOCBBT"
      },
      "source": [
        "La suma de todos los números del 1 al 100.\n",
        "\n"
      ]
    },
    {
      "cell_type": "code",
      "execution_count": 9,
      "metadata": {
        "colab": {
          "base_uri": "https://localhost:8080/"
        },
        "id": "V-I_33WXCBBT",
        "outputId": "507effa7-c99e-42ae-bfe6-bc5c39cfbce9"
      },
      "outputs": [
        {
          "output_type": "execute_result",
          "data": {
            "text/plain": [
              "5050"
            ]
          },
          "metadata": {},
          "execution_count": 9
        }
      ],
      "source": [
        "sum(range(101))"
      ]
    },
    {
      "cell_type": "markdown",
      "metadata": {
        "id": "tSzi9wJLCBBT"
      },
      "source": [
        "### break, continue y else en ciclos for\n",
        "\n"
      ]
    },
    {
      "cell_type": "markdown",
      "metadata": {
        "id": "c9ppQ9TzCBBT"
      },
      "source": [
        "#### break\n",
        "\n"
      ]
    },
    {
      "cell_type": "markdown",
      "metadata": {
        "id": "YRmEvtWOCBBT"
      },
      "source": [
        "`break` sirve para interrumpir un ciclo for.\n",
        "\n"
      ]
    },
    {
      "cell_type": "code",
      "execution_count": 32,
      "metadata": {
        "colab": {
          "base_uri": "https://localhost:8080/"
        },
        "id": "mhVFct26CBBU",
        "outputId": "358a9699-aded-4150-a710-ce7235e28e99"
      },
      "outputs": [
        {
          "output_type": "stream",
          "name": "stdout",
          "text": [
            "Hola Eduardo ¿Cómo estás?\n",
            "Ya saludé a los inscritos\n"
          ]
        }
      ],
      "source": [
        "for estudiante in estudiantes:\n",
        "    print(\"Hola\", estudiante, \"¿Cómo estás?\")\n",
        "    if estudiante == \"Eduardo\":\n",
        "        break\n",
        "\n",
        "print(\"Ya saludé a los inscritos\")"
      ]
    },
    {
      "cell_type": "markdown",
      "metadata": {
        "id": "e8IYoX67CBBU"
      },
      "source": [
        "#### else en un ciclo for\n",
        "\n"
      ]
    },
    {
      "cell_type": "markdown",
      "metadata": {
        "id": "ZNAyUR0jCBBU"
      },
      "source": [
        "La cláusula `else` en un ciclo `for` se ejecuta cuando el ciclo `for` termina de manera \"natural\", sin haber pasado por una cláusula `break`.\n",
        "\n"
      ]
    },
    {
      "cell_type": "code",
      "execution_count": 34,
      "metadata": {
        "colab": {
          "base_uri": "https://localhost:8080/"
        },
        "id": "Oax8mvABCBBU",
        "outputId": "1aed4314-f82e-400f-b264-518c3022727f"
      },
      "outputs": [
        {
          "output_type": "stream",
          "name": "stdout",
          "text": [
            "2 es un número primo\n",
            "3 es un número primo\n",
            "4 es igual a 2 * 2\n",
            "5 es un número primo\n",
            "6 es igual a 2 * 3\n",
            "7 es un número primo\n",
            "8 es igual a 2 * 4\n",
            "9 es igual a 3 * 3\n",
            "10 es igual a 2 * 5\n",
            "11 es un número primo\n",
            "12 es igual a 2 * 6\n",
            "13 es un número primo\n",
            "14 es igual a 2 * 7\n",
            "15 es igual a 3 * 5\n",
            "16 es igual a 2 * 8\n",
            "17 es un número primo\n",
            "18 es igual a 2 * 9\n",
            "19 es un número primo\n",
            "20 es igual a 2 * 10\n",
            "21 es igual a 3 * 7\n",
            "22 es igual a 2 * 11\n",
            "23 es un número primo\n",
            "24 es igual a 2 * 12\n",
            "25 es igual a 5 * 5\n",
            "26 es igual a 2 * 13\n",
            "27 es igual a 3 * 9\n",
            "28 es igual a 2 * 14\n",
            "29 es un número primo\n",
            "30 es igual a 2 * 15\n",
            "31 es un número primo\n",
            "32 es igual a 2 * 16\n",
            "33 es igual a 3 * 11\n",
            "34 es igual a 2 * 17\n",
            "35 es igual a 5 * 7\n",
            "36 es igual a 2 * 18\n",
            "37 es un número primo\n",
            "38 es igual a 2 * 19\n",
            "39 es igual a 3 * 13\n",
            "40 es igual a 2 * 20\n",
            "41 es un número primo\n",
            "42 es igual a 2 * 21\n",
            "43 es un número primo\n",
            "44 es igual a 2 * 22\n",
            "45 es igual a 3 * 15\n",
            "46 es igual a 2 * 23\n",
            "47 es un número primo\n",
            "48 es igual a 2 * 24\n",
            "49 es igual a 7 * 7\n",
            "50 es igual a 2 * 25\n",
            "51 es igual a 3 * 17\n",
            "52 es igual a 2 * 26\n",
            "53 es un número primo\n",
            "54 es igual a 2 * 27\n",
            "55 es igual a 5 * 11\n",
            "56 es igual a 2 * 28\n",
            "57 es igual a 3 * 19\n",
            "58 es igual a 2 * 29\n",
            "59 es un número primo\n",
            "60 es igual a 2 * 30\n",
            "61 es un número primo\n",
            "62 es igual a 2 * 31\n",
            "63 es igual a 3 * 21\n",
            "64 es igual a 2 * 32\n",
            "65 es igual a 5 * 13\n",
            "66 es igual a 2 * 33\n",
            "67 es un número primo\n",
            "68 es igual a 2 * 34\n",
            "69 es igual a 3 * 23\n",
            "70 es igual a 2 * 35\n",
            "71 es un número primo\n",
            "72 es igual a 2 * 36\n",
            "73 es un número primo\n",
            "74 es igual a 2 * 37\n",
            "75 es igual a 3 * 25\n",
            "76 es igual a 2 * 38\n",
            "77 es igual a 7 * 11\n",
            "78 es igual a 2 * 39\n",
            "79 es un número primo\n",
            "80 es igual a 2 * 40\n",
            "81 es igual a 3 * 27\n",
            "82 es igual a 2 * 41\n",
            "83 es un número primo\n",
            "84 es igual a 2 * 42\n",
            "85 es igual a 5 * 17\n",
            "86 es igual a 2 * 43\n",
            "87 es igual a 3 * 29\n",
            "88 es igual a 2 * 44\n",
            "89 es un número primo\n",
            "90 es igual a 2 * 45\n",
            "91 es igual a 7 * 13\n",
            "92 es igual a 2 * 46\n",
            "93 es igual a 3 * 31\n",
            "94 es igual a 2 * 47\n",
            "95 es igual a 5 * 19\n",
            "96 es igual a 2 * 48\n",
            "97 es un número primo\n",
            "98 es igual a 2 * 49\n",
            "99 es igual a 3 * 33\n"
          ]
        }
      ],
      "source": [
        "for n in range(2, 100):\n",
        "    for x in range(2, n):\n",
        "        if n % x == 0:\n",
        "            print(n, 'es igual a', x, '*', n//x)\n",
        "            break\n",
        "    else:\n",
        "        # se terminó de checar posibles divisores sin encontrar uno\n",
        "        print(n, 'es un número primo')"
      ]
    },
    {
      "cell_type": "markdown",
      "metadata": {
        "id": "OxPX30RqCBBV"
      },
      "source": [
        "#### continue\n",
        "\n",
        "Tiene un funcionmiento similar al break detiene el for para hacer correr el siguiente ciclo\n",
        "\n"
      ]
    },
    {
      "cell_type": "code",
      "execution_count": 35,
      "metadata": {
        "colab": {
          "base_uri": "https://localhost:8080/"
        },
        "id": "jnI_q4EsCBBV",
        "outputId": "25638df1-c932-451c-8993-0c65d83b5635"
      },
      "outputs": [
        {
          "output_type": "stream",
          "name": "stdout",
          "text": [
            "Hola Eduardo ¿Cómo estás?\n",
            "Hola Alejandro ¿Cómo estás?\n",
            "¿Qué materias estás llevando, Alejandro ?\n",
            "Hola Maria ¿Cómo estás?\n",
            "¿Qué materias estás llevando, Maria ?\n",
            "Hola Brenda ¿Cómo estás?\n",
            "¿Qué materias estás llevando, Brenda ?\n",
            "Hola Clavel ¿Cómo estás?\n",
            "Hola Tamara ¿Cómo estás?\n",
            "¿Qué materias estás llevando, Tamara ?\n",
            "Hola Claudia ¿Cómo estás?\n",
            "¿Qué materias estás llevando, Claudia ?\n"
          ]
        }
      ],
      "source": [
        "for estudiante in estudiantes:\n",
        "    print(\"Hola\", estudiante, \"¿Cómo estás?\")\n",
        "    if estudiante in [\"Eduardo\", \"Clavel\"]:\n",
        "        continue\n",
        "    print(\"¿Qué materias estás llevando,\", estudiante,\"?\")"
      ]
    },
    {
      "cell_type": "markdown",
      "metadata": {
        "id": "_UC5eqzACBBV"
      },
      "source": [
        "## pass\n",
        "\n"
      ]
    },
    {
      "cell_type": "markdown",
      "metadata": {
        "id": "dt7wQt4OCBBW"
      },
      "source": [
        "La claúsula `pass` no hace nada, pero puede servir para que un programa incompleto sea sintácticamente correcto.\n",
        "\n"
      ]
    },
    {
      "cell_type": "code",
      "execution_count": 39,
      "metadata": {
        "colab": {
          "base_uri": "https://localhost:8080/"
        },
        "id": "SFB80v_XCBBW",
        "outputId": "7059df3f-bcac-4142-e58d-a43936e9a0e6"
      },
      "outputs": [
        {
          "output_type": "stream",
          "name": "stdout",
          "text": [
            "Hola Eduardo ¿Cómo estás?\n",
            "Hola Alejandro ¿Cómo estás?\n",
            "Hola Maria ¿Cómo estás?\n",
            "Hola Brenda ¿Cómo estás?\n",
            "Hola Clavel ¿Cómo estás?\n",
            "Hola Tamara ¿Cómo estás?\n",
            "Hola Claudia ¿Cómo estás?\n"
          ]
        }
      ],
      "source": [
        "for estudiante in estudiantes:\n",
        "    print(\"Hola\", estudiante, \"¿Cómo estás?\")\n",
        "    if estudiante in [\"Alejandro\", \"Eduardo\"]:\n",
        "        pass"
      ]
    },
    {
      "cell_type": "code",
      "execution_count": 40,
      "metadata": {
        "colab": {
          "base_uri": "https://localhost:8080/"
        },
        "id": "pe5eQ-Z-CBBW",
        "outputId": "1a247e50-1df5-4ce7-e419-9fec9cd9b004"
      },
      "outputs": [
        {
          "output_type": "stream",
          "name": "stdout",
          "text": [
            "Hola Eduardo ¿Cómo estás?\n",
            "Hola Alejandro ¿Cómo estás?\n",
            "Hola Maria ¿Cómo estás?\n",
            "Hola Brenda ¿Cómo estás?\n",
            "Hola Clavel ¿Cómo estás?\n",
            "Hola Tamara ¿Cómo estás?\n",
            "Hola Claudia ¿Cómo estás?\n"
          ]
        }
      ],
      "source": [
        "for estudiante in estudiantes:\n",
        "    print(\"Hola\", estudiante, \"¿Cómo estás?\")\n",
        "    if estudiante in [\"Uriel\", \"Ruth\"]:\n",
        "        print(\"Hola\", estudiante, \"¿Eres oyente?\")"
      ]
    }
  ],
  "metadata": {
    "kernelspec": {
      "display_name": "Python 3",
      "language": "python",
      "name": "python3"
    },
    "language_info": {
      "codemirror_mode": {
        "name": "ipython",
        "version": 3
      },
      "file_extension": ".py",
      "mimetype": "text/x-python",
      "name": "python",
      "nbconvert_exporter": "python",
      "pygments_lexer": "ipython3",
      "version": "3.9.2"
    },
    "org": null,
    "colab": {
      "provenance": [],
      "include_colab_link": true
    }
  },
  "nbformat": 4,
  "nbformat_minor": 0
}