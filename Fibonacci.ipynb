{
  "nbformat": 4,
  "nbformat_minor": 0,
  "metadata": {
    "colab": {
      "provenance": [],
      "authorship_tag": "ABX9TyMEajCo3zoMKG2gObMV6cT9",
      "include_colab_link": true
    },
    "kernelspec": {
      "name": "python3",
      "display_name": "Python 3"
    },
    "language_info": {
      "name": "python"
    }
  },
  "cells": [
    {
      "cell_type": "markdown",
      "metadata": {
        "id": "view-in-github",
        "colab_type": "text"
      },
      "source": [
        "<a href=\"https://colab.research.google.com/github/Edd-P-P/Python/blob/main/Fibonacci.ipynb\" target=\"_parent\"><img src=\"https://colab.research.google.com/assets/colab-badge.svg\" alt=\"Open In Colab\"/></a>"
      ]
    },
    {
      "cell_type": "markdown",
      "source": [
        "## Potencias de Fibonacci\n",
        "Existe una sucesión llamda sucesión de Fibonacci donde existe un problema de las potencias perfectas donde a partir de cierto término muy grande ya no hay potencias perfectas, por ejemplo para los cuadrados perfectos solo son 4 términos de la sucesión el 0, 1 ,1 y 144 y conforme se aumenta el número de la potencia el número de potencias enésimas se reduce a 2 números 0 y 1 en la siguiente celda se representa una función que muestra las potencias enésimas, en la última celda se muestra un paper donde se hace una expĺicación al respecto."
      ],
      "metadata": {
        "id": "bxsqXrP2IpuM"
      }
    },
    {
      "cell_type": "code",
      "execution_count": null,
      "metadata": {
        "id": "FfJrtqEoIn74"
      },
      "outputs": [],
      "source": [
        "def es_potencia(n,pot=2):\n",
        "    return int((n)**(1/pot)) ** pot == n\n",
        "\n",
        "def potencia_fibonacci(n,pot=2):\n",
        "    fibs = []\n",
        "    a, b = 0, 1\n",
        "    while a < n:\n",
        "        if es_potencia(a,pot):\n",
        "            fibs.append(a)\n",
        "        a, b = b, a+b\n",
        "    return fibs\n",
        "\n",
        "potencia_fibonacci(10**20,4)"
      ]
    },
    {
      "cell_type": "markdown",
      "source": [
        "[link text](https://annals.math.princeton.edu/2006/163-3/p05)"
      ],
      "metadata": {
        "id": "YKjnjpYJMe6E"
      }
    }
  ]
}